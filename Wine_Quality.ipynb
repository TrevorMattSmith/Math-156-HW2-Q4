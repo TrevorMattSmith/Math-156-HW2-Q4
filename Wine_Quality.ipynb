{
  "nbformat": 4,
  "nbformat_minor": 0,
  "metadata": {
    "colab": {
      "provenance": []
    },
    "kernelspec": {
      "name": "python3",
      "display_name": "Python 3"
    },
    "language_info": {
      "name": "python"
    }
  },
  "cells": [
    {
      "cell_type": "code",
      "execution_count": null,
      "metadata": {
        "id": "uV-sJ5wpwygX"
      },
      "outputs": [],
      "source": [
        "#Parts A and B Downloading and Loading in data\n",
        "\n",
        "\n",
        "\n"
      ]
    }
  ]
}